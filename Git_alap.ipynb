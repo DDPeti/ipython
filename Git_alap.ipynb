{
 "metadata": {
  "name": "",
  "signature": "sha256:cc8d569a68936dec8df4fe9802acc86b9263ffd30f1287a43fbe54828f9484e0"
 },
 "nbformat": 3,
 "nbformat_minor": 0,
 "worksheets": [
  {
   "cells": [
    {
     "cell_type": "heading",
     "level": 1,
     "metadata": {},
     "source": [
      "Az al\u00e1bbiak mind m\u0171k\u00f6dnek linux \u00e9s Windows alatt is. Linuxban egy termin\u00e1lt kell k\u00e9rni, Windowsban a Git bash-t.\n",
      "\n",
      "El\u0151sz\u00f6r is megmondjuk a Git-nek, kik is vagyunk mi\n"
     ]
    },
    {
     "cell_type": "markdown",
     "metadata": {},
     "source": [
      "***Felhaszn\u00e1l\u00f3n\u00e9v megad\u00e1sa***\n",
      "git config --global user.name \"Probajanos\""
     ]
    },
    {
     "cell_type": "code",
     "collapsed": false,
     "input": [
      "! git config --global user.name \"Probajanos\""
     ],
     "language": "python",
     "metadata": {},
     "outputs": [],
     "prompt_number": 9
    },
    {
     "cell_type": "markdown",
     "metadata": {},
     "source": [
      "*E-mail megad\u00e1sa*\n",
      "git config --global user.email \"PR.obaJanos@yahoo.com\" "
     ]
    },
    {
     "cell_type": "code",
     "collapsed": false,
     "input": [
      "! git config --global user.email \"PR.obaJanos@yahoo.com\" "
     ],
     "language": "python",
     "metadata": {},
     "outputs": [],
     "prompt_number": 8
    },
    {
     "cell_type": "markdown",
     "metadata": {},
     "source": [
      "Ezut\u00e1n Git adatb\u00e1zist szeretn\u00e9nk. Git adatb\u00e1zis mindig egy teljes k\u00f6nyvt\u00e1rhoz (alk\u00f6nyvt\u00e1rakkal egy\u00fctt) k\u00e9sz\u00fcl. Adatb\u00e1zisunk k\u00e9tf\u00e9lek\u00e9pp lehet: szerz\u00fcnk egyet, vagy csin\u00e1lunk egyet a saj\u00e1t k\u00f6nyvt\u00e1runkr\u00f3l.\n",
      "\n",
      "Git adatb\u00e1zist csin\u00e1lni egyszer\u0171: a k\u00edv\u00e1nt k\u00f6nyvt\u00e1rban azt mondjuk, hogy\n",
      "git init \n"
     ]
    },
    {
     "cell_type": "code",
     "collapsed": false,
     "input": [
      "! git init "
     ],
     "language": "python",
     "metadata": {},
     "outputs": []
    },
    {
     "cell_type": "markdown",
     "metadata": {},
     "source": [
      "Ez l\u00e9trehozza a k\u00f6nyvt\u00e1runkban a .git/ adatb\u00e1zist.\n",
      "\n",
      "Szerezni is egyszer\u0171. Mi egy Szerver nev\u0171 g\u00e9p\u00e9r\u0151l ssh-n kereszt\u00fcl fogjuk hozni-vinni a cuccainkat, ez\u00e9rt ezt \u00edrom le (de megjegyz\u00e9sk\u00e9pp a Git m\u0171k\u00f6dik http-n, rsync-en, \u00e9s egy saj\u00e1t git protokollj\u00e1n kereszt\u00fcl is). Feltessz\u00fck, hogy ezen a szerveren van m\u00e1r egy proba nev\u0171 adatb\u00e1zis (ssh git szerver le\u00edr\u00e1sa lejjebb). Amikor el\u0151sz\u00f6r szedj\u00fck le a proba nev\u0171 adatb\u00e1zist\n",
      "git clone PR.obaJanos@yahoo.szerver.hu:proba"
     ]
    },
    {
     "cell_type": "code",
     "collapsed": false,
     "input": [
      "! git clone PR.obaJanos@yahoo.szerver.hu:proba"
     ],
     "language": "python",
     "metadata": {},
     "outputs": []
    },
    {
     "cell_type": "markdown",
     "metadata": {},
     "source": [
      "Ez l\u00e9trehozza a proba nev\u0171 k\u00f6nyvt\u00e1rat a proba project filejaival, \u00e9s egy .git k\u00f6nyvt\u00e1rral, ami a proba teljes adatb\u00e1zis\u00e1t tartalmazza. (\u00c9kezetet semilyen filen\u00e9vben \u00e9s felhaszn\u00e1l\u00f3n\u00e9vben sem \u00e9rdemes haszn\u00e1lni. :-) )\n",
      "\n",
      "Van teh\u00e1t egy k\u00f6nyvt\u00e1runk egy git adatb\u00e1zissal. Ebben a k\u00f6nyvt\u00e1rban m\u00f3dos\u00edtunk valamit, elmentj\u00fck ahogy szoktuk a munk\u00e1nkat, viszont ett\u0151l m\u00e9g nem ker\u00fcl be a Git adatb\u00e1zis\u00e1ba. Ehhez el\u0151sz\u00f6r ki kell jel\u00f6ln\u00fcnk, hogy mely fileokat aj\u00e1nljuk a Git figyelm\u00e9be:\n",
      "*git add file1 file2 file3*\n"
     ]
    },
    {
     "cell_type": "code",
     "collapsed": false,
     "input": [
      "! git add file1 file2 file3"
     ],
     "language": "python",
     "metadata": {},
     "outputs": []
    },
    {
     "cell_type": "markdown",
     "metadata": {},
     "source": [
      "A  m\u00f3dos\u00edt\u00e1sok,snapshot-ok elt\u00e1rol\u00e1s\u00e1ra szolg\u00e1l a lok\u00e1lis adatb\u00e1zisban.Minden commit rendelkezik egy r\u00f6vid sz\u00f6veggel,  le\u00edr\u00e1ssal,mely arra utal,hogy milyen m\u00f3dos\u00edt\u00e1sokat tartalmaz.A commit parancs futtat\u00e1sa csakisaz add parancs kiad\u00e1sa ut\u00e1n lehets\u00e9ges!\n",
      "git commit -m \"commit sz\u00f6vege\""
     ]
    },
    {
     "cell_type": "code",
     "collapsed": false,
     "input": [
      "! git commit -m \"commitszoveg\""
     ],
     "language": "python",
     "metadata": {},
     "outputs": []
    },
    {
     "cell_type": "markdown",
     "metadata": {},
     "source": [
      "Ha viszont a proba k\u00f6nyvt\u00e1runkr\u00f3l az adatb\u00e1zis \u00fajonan k\u00e9sz\u00fclt, akkor a Szerveren a projfelh felhaszn\u00e1l\u00f3 \u00fczemeltet\u0151j\u00e9nek el kell k\u00fcldeni emailben a proba nevet, hogy tudathassa a Szerverrel, hogy lesz egy ilyen \u00faj adatb\u00e1zis rajta. Ha tudatta vele, akkor a k\u00f6vetkez\u0151ket kell tenni:\n",
      " ***git remote add origin PR.obaJanos@yahoo.szerver.hu:proba.git *** \n",
      "Ezzel megsp\u00f3rolhatjuk, hogy mindig ki kelljen \u00edrni a projfelh@valami.szerver.hu:proba.git -et, helyette csak annyit kell majd \u00edrni, hogy origin."
     ]
    },
    {
     "cell_type": "code",
     "collapsed": false,
     "input": [
      "! git remote add origin PR.obaJanos@yahoo.szerver.hu:proba.git"
     ],
     "language": "python",
     "metadata": {},
     "outputs": []
    },
    {
     "cell_type": "markdown",
     "metadata": {},
     "source": [
      "git push origin master\n",
      "\n",
      "ami szabad ford\u00edt\u00e1sban annyit tesz, hogy l\u00e9gy sz\u00edves az el\u0151bb defini\u00e1lt origin nev\u0171 k\u00f6zponti helyre t\u00f6ltsd fel az adatb\u00e1zisunkat."
     ]
    },
    {
     "cell_type": "code",
     "collapsed": false,
     "input": [
      "! git push origin master"
     ],
     "language": "python",
     "metadata": {},
     "outputs": []
    }
   ],
   "metadata": {}
  }
 ]
}